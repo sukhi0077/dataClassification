{
 "cells": [
  {
   "cell_type": "code",
   "execution_count": null,
   "metadata": {},
   "outputs": [],
   "source": [
    "#http://docs.h2o.ai/h2o/latest-stable/h2o-py/docs/modeling.html#h2odeeplearningestimator\n",
    "import h2o\n",
    "import pandas as pd\n",
    "from h2o.estimators import H2ODeepLearningEstimator\n",
    "#h2o.cluster().shutdown()\n",
    "h2o.init()\n",
    "#h2o.cluster().show_status();\n",
    "irisData = h2o.import_file(\"/Users/sukhwindersingh/Documents/study/sem2/PDC/iris/iris.data\");\n",
    "#votesData = h2o.import_file(\"/Users/sukhwindersingh/Documents/study/sem2/PDC/votes/votes_data.csv\");\n",
    "votesData = h2o.import_file(\"/Users/sukhwindersingh/Documents/study/sem2/PDC/votes/house-votes-84.data\");\n",
    "sonarData = h2o.import_file(\"/Users/sukhwindersingh/Documents/study/sem2/PDC/sonar/sonar.all-data\");"
   ]
  },
  {
   "cell_type": "code",
   "execution_count": 19,
   "metadata": {},
   "outputs": [
    {
     "name": "stdout",
     "output_type": "stream",
     "text": [
      "All  : ['C1', 'C2', 'C3', 'C4', 'C5', 'C6', 'C7', 'C8', 'C9', 'C10', 'C11', 'C12', 'C13', 'C14', 'C15', 'C16', 'C17']\n",
      "P  : ['C2', 'C3', 'C4', 'C5', 'C6', 'C7', 'C8', 'C9', 'C10', 'C11', 'C12', 'C13', 'C14', 'C15', 'C16']\n",
      "R  : C1\n"
     ]
    }
   ],
   "source": [
    "print ('All  :', votesData.col_names)\n",
    "print ('P  :', votesData.col_names[1:16])\n",
    "print ('R  :', votesData.col_names[0])"
   ]
  },
  {
   "cell_type": "code",
   "execution_count": 17,
   "metadata": {},
   "outputs": [
    {
     "name": "stdout",
     "output_type": "stream",
     "text": [
      "ALL  : ['sepal length in cm', 'sepal width in cm', 'petal length in cm', 'petal width in cm', 'class']\n",
      "P  : ['sepal length in cm', 'sepal width in cm', 'petal length in cm', 'petal width in cm']\n",
      "R  : class\n",
      "ALL  : ['sepal length in cm', 'sepal width in cm', 'petal length in cm', 'petal width in cm', 'class']\n",
      "P  : ['sepal length in cm', 'sepal width in cm', 'petal length in cm', 'petal width in cm']\n",
      "R  : class\n",
      "----------------------------------\n",
      "All  : ['C1', 'C2', 'C3', 'C4', 'C5', 'C6', 'C7', 'C8', 'C9', 'C10', 'C11', 'C12', 'C13', 'C14', 'C15', 'C16', 'C17']\n",
      "P  : ['C1', 'C2', 'C3', 'C4', 'C5', 'C6', 'C7', 'C8', 'C9', 'C10', 'C11', 'C12', 'C13', 'C14', 'C15', 'C16']\n",
      "R  : C17\n",
      "----------------------------------\n",
      "All  : ['C1', 'C2', 'C3', 'C4', 'C5', 'C6', 'C7', 'C8', 'C9', 'C10', 'C11', 'C12', 'C13', 'C14', 'C15', 'C16', 'C17', 'C18', 'C19', 'C20', 'C21', 'C22', 'C23', 'C24', 'C25', 'C26', 'C27', 'C28', 'C29', 'C30', 'C31', 'C32', 'C33', 'C34', 'C35', 'C36', 'C37', 'C38', 'C39', 'C40', 'C41', 'C42', 'C43', 'C44', 'C45', 'C46', 'C47', 'C48', 'C49', 'C50', 'C51', 'C52', 'C53', 'C54', 'C55', 'C56', 'C57', 'C58', 'C59', 'C60', 'C61']\n",
      "P  : ['C1', 'C2', 'C3', 'C4', 'C5', 'C6', 'C7', 'C8', 'C9', 'C10', 'C11', 'C12', 'C13', 'C14', 'C15', 'C16', 'C17', 'C18', 'C19', 'C20', 'C21', 'C22', 'C23', 'C24', 'C25', 'C26', 'C27', 'C28', 'C29', 'C30', 'C31', 'C32', 'C33', 'C34', 'C35', 'C36', 'C37', 'C38', 'C39', 'C40', 'C41', 'C42', 'C43', 'C44', 'C45', 'C46', 'C47', 'C48', 'C49', 'C50', 'C51', 'C52', 'C53', 'C54', 'C55', 'C56', 'C57', 'C58', 'C59', 'C60']\n",
      "R  : C61\n",
      "All  : ['C1', 'C2', 'C3', 'C4', 'C5', 'C6', 'C7', 'C8', 'C9', 'C10', 'C11', 'C12', 'C13', 'C14', 'C15', 'C16', 'C17', 'C18', 'C19', 'C20', 'C21', 'C22', 'C23', 'C24', 'C25', 'C26', 'C27', 'C28', 'C29', 'C30', 'C31', 'C32', 'C33', 'C34', 'C35', 'C36', 'C37', 'C38', 'C39', 'C40', 'C41', 'C42', 'C43', 'C44', 'C45', 'C46', 'C47', 'C48', 'C49', 'C50', 'C51', 'C52', 'C53', 'C54', 'C55', 'C56', 'C57', 'C58', 'C59', 'C60', 'C61']\n",
      "P  : ['C1', 'C2', 'C3', 'C4', 'C5', 'C6', 'C7', 'C8', 'C9', 'C10', 'C11', 'C12', 'C13', 'C14', 'C15', 'C16', 'C17', 'C18', 'C19', 'C20', 'C21', 'C22', 'C23', 'C24', 'C25', 'C26', 'C27', 'C28', 'C29', 'C30', 'C31', 'C32', 'C33', 'C34', 'C35', 'C36', 'C37', 'C38', 'C39', 'C40', 'C41', 'C42', 'C43', 'C44', 'C45', 'C46', 'C47', 'C48', 'C49', 'C50', 'C51', 'C52', 'C53', 'C54', 'C55', 'C56', 'C57', 'C58', 'C59', 'C60']\n",
      "R  : C61\n"
     ]
    }
   ],
   "source": [
    "print ('ALL  :', irisData.col_names)\n",
    "print ('P  :', irisData.col_names[0:4])\n",
    "print ('R  :', irisData.col_names[4])\n",
    "print ('----------------------------------')\n",
    "print ('All  :', votesData.col_names)\n",
    "print ('P  :', votesData.col_names[1:16])\n",
    "print ('R  :', votesData.col_names[0])\n",
    "print ('----------------------------------')\n",
    "print ('All  :', sonarData.columns)\n",
    "print ('P  :', sonarData.columns[:-1])\n",
    "print ('R  :', sonarData.columns[60])\n",
    "#irisData.describe(chunk_summary=True);\n",
    "#sonarData.describe(chunk_summary=True);\n",
    "#votesData.describe(chunk_summary=True);"
   ]
  },
  {
   "cell_type": "code",
   "execution_count": 37,
   "metadata": {},
   "outputs": [
    {
     "name": "stdout",
     "output_type": "stream",
     "text": [
      "P  : ['sepal length in cm', 'sepal width in cm', 'petal length in cm', 'petal width in cm']\n",
      "R  : class\n",
      "rectifier_10\n",
      "deeplearning Model Build progress: |██████████████████████████████████████| 100%\n",
      "rectifier_5\n",
      "deeplearning Model Build progress: |██████████████████████████████████████| 100%\n",
      "rectifier_0\n",
      "Dividing Training and test\n",
      "deeplearning Model Build progress: |██████████████████████████████████████| 100%\n",
      "tanh_10\n",
      "deeplearning Model Build progress: |██████████████████████████████████████| 100%\n",
      "tanh_5\n",
      "deeplearning Model Build progress: |██████████████████████████████████████| 100%\n",
      "tanh_0\n",
      "Dividing Training and test\n",
      "deeplearning Model Build progress: |██████████████████████████████████████| 100%\n",
      "train_error : [5.164164970690864, 5.09745120003722, 4.420387602272684, 3.8756672795429354, 2.4068556668642818, 2.6472657539113595]\n",
      "test_error : [8.121376428746474, 3.7994251027195154]\n",
      "xval_error : [9.906665276182569, 4.792414268532127, 4.267268234733621, 3.7526895196491634]\n",
      "P  : ['C2', 'C3', 'C4', 'C5', 'C6', 'C7', 'C8', 'C9', 'C10', 'C11', 'C12', 'C13', 'C14', 'C15', 'C16']\n",
      "R  : C1\n",
      "rectifier_10\n",
      "deeplearning Model Build progress: |██████████████████████████████████████| 100%\n",
      "rectifier_5\n",
      "deeplearning Model Build progress: |██████████████████████████████████████| 100%\n",
      "rectifier_0\n",
      "Dividing Training and test\n",
      "deeplearning Model Build progress: |██████████████████████████████████████| 100%\n",
      "tanh_10\n",
      "deeplearning Model Build progress: |██████████████████████████████████████| 100%\n",
      "tanh_5\n",
      "deeplearning Model Build progress: |██████████████████████████████████████| 100%\n",
      "tanh_0\n",
      "Dividing Training and test\n",
      "deeplearning Model Build progress: |██████████████████████████████████████| 100%\n",
      "train_error : [1.1283149899102582, 1.6369095287637587, 2.496835996616931, 1.2464339858415874, 1.3555228398169668, 4.842898603641007]\n",
      "test_error : [6.555861204377644, 2.390389013106193]\n",
      "xval_error : [4.698621410184596, 4.711077809218983, 5.315632976672889, 4.180552561015176]\n",
      "P  : ['C1', 'C2', 'C3', 'C4', 'C5', 'C6', 'C7', 'C8', 'C9', 'C10', 'C11', 'C12', 'C13', 'C14', 'C15', 'C16', 'C17', 'C18', 'C19', 'C20', 'C21', 'C22', 'C23', 'C24', 'C25', 'C26', 'C27', 'C28', 'C29', 'C30', 'C31', 'C32', 'C33', 'C34', 'C35', 'C36', 'C37', 'C38', 'C39', 'C40', 'C41', 'C42', 'C43', 'C44', 'C45', 'C46', 'C47', 'C48', 'C49', 'C50', 'C51', 'C52', 'C53', 'C54', 'C55', 'C56', 'C57', 'C58', 'C59', 'C60']\n",
      "R  : C61\n",
      "rectifier_10\n",
      "deeplearning Model Build progress: |██████████████████████████████████████| 100%\n",
      "rectifier_5\n",
      "deeplearning Model Build progress: |██████████████████████████████████████| 100%\n",
      "rectifier_0\n",
      "Dividing Training and test\n",
      "deeplearning Model Build progress: |██████████████████████████████████████| 100%\n",
      "tanh_10\n",
      "deeplearning Model Build progress: |██████████████████████████████████████| 100%\n",
      "tanh_5\n",
      "deeplearning Model Build progress: |██████████████████████████████████████| 100%\n",
      "tanh_0\n",
      "Dividing Training and test\n",
      "deeplearning Model Build progress: |██████████████████████████████████████| 100%\n",
      "train_error : [13.833188107988938, 12.949348045817333, 19.24920913636272, 4.574000317443839, 10.38655685937693, 19.244662725360403]\n",
      "test_error : [23.02920790144055, 29.6820276717837]\n",
      "xval_error : [26.85120348217102, 21.005218653394696, 22.358834735454074, 25.291927514501385]\n"
     ]
    }
   ],
   "source": [
    "def calculateMSE(dataSet,predictorColumns,responseColumn):\n",
    "    print ('P  :', predictorColumns)\n",
    "    print ('R  :', responseColumn)\n",
    "    map_error= {}\n",
    "    train_error=[]\n",
    "    test_error=[]\n",
    "    xval_error=[]\n",
    "    activations =[\"rectifier\", \"tanh\"]\n",
    "    for activation in activations:\n",
    "        folds = [10,5,0]\n",
    "        for fold in folds:\n",
    "            string_model = activation  +\"_\"+  str(fold)\n",
    "            print(string_model)\n",
    "            dl = H2ODeepLearningEstimator(hidden=[5,20,100],\n",
    "                                           epochs=50,\n",
    "                                           activation=activation,\n",
    "                                           nfolds=fold)\n",
    "                             #model_id=string_model,                \n",
    "            if fold == 0:\n",
    "                print('Dividing Training and test')\n",
    "                trainData, testData = dataSet.split_frame(ratios=[.8])\n",
    "                dl.train(x=predictorColumns,\n",
    "                          y=responseColumn,\n",
    "                          training_frame=trainData,\n",
    "                          validation_frame=testData)\n",
    "                test_error.append(dl.mse(valid=True)*100)\n",
    "            else:\n",
    "                dl.train(x=predictorColumns,y=responseColumn,training_frame=dataSet,validation_frame=dataSet)\n",
    "                xval_error.append(dl.mse(xval=True)*100)  \n",
    "\n",
    "            #perf = dl.model_performance(testIRIS)\n",
    "            #map_error[string_model]=dl.mse(valid=True)*100\n",
    "            train_error.append(dl.mse(train=True)*100)\n",
    "                    \n",
    "    print('train_error :',train_error)\n",
    "    print('test_error :',test_error)\n",
    "    print('xval_error :',xval_error)    \n",
    "\n",
    "calculateMSE(irisData,irisData.col_names[0:4],irisData.col_names[4])\n",
    "calculateMSE(votesData,votesData.col_names[1:16],votesData.columns[0])\n",
    "calculateMSE(sonarData,sonarData.col_names[0:60],sonarData.col_names[60])"
   ]
  },
  {
   "cell_type": "code",
   "execution_count": null,
   "metadata": {},
   "outputs": [],
   "source": [
    "# Eval performance:\n",
    "perf = dl.model_performance(testIRIS)\n",
    "#print(perf)"
   ]
  },
  {
   "cell_type": "code",
   "execution_count": null,
   "metadata": {},
   "outputs": [],
   "source": [
    "#for seq in list(range(6)):\n",
    "print(list(range(6)))\n",
    "# Generate predictions on a test set (if necessary):\n",
    "#pred = dl.predict(testIRIS)\n",
    "#print(pred)\n",
    "#print(dl.auc)\n",
    "#print(dl.mse)\n",
    "# print(irisData['class'].categories())\n",
    "# print(irisData.col_names)\n",
    "# print(len(irisData.col_names))\n",
    "   # adaptive_rate=True\n",
    "            #train_samples_per_iteration=-1,\n",
    "            #reproducible=True,\n",
    "            #single_node_mode=False,\n",
    "            #balance_classes=False,\n",
    "            #force_load_balance=False"
   ]
  },
  {
   "cell_type": "code",
   "execution_count": null,
   "metadata": {},
   "outputs": [],
   "source": [
    "dl.mse(valid=True)"
   ]
  },
  {
   "cell_type": "code",
   "execution_count": null,
   "metadata": {},
   "outputs": [],
   "source": [
    "list_iris= []\n",
    "list_iris.append(dl.mse(valid=True))\n",
    "list_iris.append(dl.mse(valid=True))\n",
    "\n",
    "print(list_iris)"
   ]
  },
  {
   "cell_type": "code",
   "execution_count": null,
   "metadata": {},
   "outputs": [],
   "source": []
  }
 ],
 "metadata": {
  "kernelspec": {
   "display_name": "Python 3",
   "language": "python",
   "name": "python3"
  },
  "language_info": {
   "codemirror_mode": {
    "name": "ipython",
    "version": 3
   },
   "file_extension": ".py",
   "mimetype": "text/x-python",
   "name": "python",
   "nbconvert_exporter": "python",
   "pygments_lexer": "ipython3",
   "version": "3.8.2"
  }
 },
 "nbformat": 4,
 "nbformat_minor": 4
}
